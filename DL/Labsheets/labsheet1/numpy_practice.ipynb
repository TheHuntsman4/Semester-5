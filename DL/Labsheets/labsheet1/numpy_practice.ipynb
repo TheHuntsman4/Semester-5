{
 "cells": [
  {
   "cell_type": "markdown",
   "metadata": {
    "id": "Z0dm4NsmxO7r"
   },
   "source": [
    "Colab Help  https://www.geeksforgeeks.org/how-to-run-python-code-on-google-colaboratory/\n"
   ]
  },
  {
   "cell_type": "markdown",
   "metadata": {
    "id": "GQQ-AC0m_-Ln"
   },
   "source": [
    "\n",
    "Numpy Tutorial"
   ]
  },
  {
   "cell_type": "code",
   "execution_count": 1,
   "metadata": {
    "id": "Ri4BrBqLEitA"
   },
   "outputs": [],
   "source": [
    "import numpy as np"
   ]
  },
  {
   "cell_type": "markdown",
   "metadata": {
    "id": "5XfGycJ7D939"
   },
   "source": [
    "Simplest way to create an array in Numpy is to use Python List"
   ]
  },
  {
   "cell_type": "code",
   "execution_count": 2,
   "metadata": {
    "colab": {
     "base_uri": "https://localhost:8080/"
    },
    "id": "s0r9hgkoAECt",
    "outputId": "e2daeb09-855c-48a9-d8ed-8f9c59de0058"
   },
   "outputs": [
    {
     "name": "stdout",
     "output_type": "stream",
     "text": [
      "[1, 9, 8, 3]\n"
     ]
    }
   ],
   "source": [
    "myPythonList = [1, 9, 8, 3]\n",
    "print(myPythonList)"
   ]
  },
  {
   "cell_type": "markdown",
   "metadata": {
    "id": "F8K-APczES8w"
   },
   "source": [
    "To convert python list to a numpy array by using the object np.array."
   ]
  },
  {
   "cell_type": "code",
   "execution_count": 3,
   "metadata": {
    "colab": {
     "base_uri": "https://localhost:8080/"
    },
    "id": "nHchYLnGEV_j",
    "outputId": "674c1bb6-1dc5-48be-e1cd-1a00d3548845"
   },
   "outputs": [
    {
     "data": {
      "text/plain": [
       "array([1, 9, 8, 3])"
      ]
     },
     "execution_count": 3,
     "metadata": {},
     "output_type": "execute_result"
    }
   ],
   "source": [
    "numpy_array_from_list = np.array(myPythonList)\n",
    "numpy_array_from_list"
   ]
  },
  {
   "cell_type": "code",
   "execution_count": 4,
   "metadata": {
    "colab": {
     "base_uri": "https://localhost:8080/"
    },
    "id": "CXItLq82E7gm",
    "outputId": "d69a4d60-6181-484d-85ad-5aa68a4f6949"
   },
   "outputs": [
    {
     "name": "stdout",
     "output_type": "stream",
     "text": [
      "[1 9 8 3]\n"
     ]
    }
   ],
   "source": [
    "a = np.array([1, 9, 8, 3])\n",
    "print(a)"
   ]
  },
  {
   "cell_type": "code",
   "execution_count": 5,
   "metadata": {
    "colab": {
     "base_uri": "https://localhost:8080/"
    },
    "id": "HV_GDZRIFGsn",
    "outputId": "7101d410-427e-47e6-dc41-3c4367c3577a"
   },
   "outputs": [
    {
     "name": "stdout",
     "output_type": "stream",
     "text": [
      "[11 19 18 13]\n"
     ]
    }
   ],
   "source": [
    "x = numpy_array_from_list + 10\n",
    "print(x)"
   ]
  },
  {
   "cell_type": "markdown",
   "metadata": {
    "id": "DVXugl39FPOH"
   },
   "source": [
    "**Shape of Array**\n",
    "You can check the shape of the array with the object shape preceded by the name of the array. In the same way, you can check the type with dtypes."
   ]
  },
  {
   "cell_type": "code",
   "execution_count": 6,
   "metadata": {
    "colab": {
     "base_uri": "https://localhost:8080/"
    },
    "id": "vIX_VkIxFOlL",
    "outputId": "84e21de5-1bda-4cc3-ebda-4ce85b2f636a"
   },
   "outputs": [
    {
     "name": "stdout",
     "output_type": "stream",
     "text": [
      "(3,)\n",
      "int64\n"
     ]
    }
   ],
   "source": [
    "a = np.array([1, 2, 3])\n",
    "print(a.shape)\n",
    "print(a.dtype)"
   ]
  },
  {
   "cell_type": "code",
   "execution_count": 7,
   "metadata": {
    "colab": {
     "base_uri": "https://localhost:8080/"
    },
    "id": "aob63rDjF26c",
    "outputId": "849054f6-ac26-473f-cd15-e9652cfaf27d"
   },
   "outputs": [
    {
     "name": "stdout",
     "output_type": "stream",
     "text": [
      "float64\n"
     ]
    }
   ],
   "source": [
    "#### Different type\n",
    "b = np.array([1.1, 2.0, 3.2])\n",
    "print(b.dtype)"
   ]
  },
  {
   "cell_type": "code",
   "execution_count": 8,
   "metadata": {
    "colab": {
     "base_uri": "https://localhost:8080/"
    },
    "id": "pWFvj3k2GSlm",
    "outputId": "9115a800-5b08-4407-9975-df09683fdf3d"
   },
   "outputs": [
    {
     "name": "stdout",
     "output_type": "stream",
     "text": [
      "[[1 2 3]\n",
      " [4 5 6]]\n"
     ]
    }
   ],
   "source": [
    "### 2 dimension\n",
    "c = np.array([(1, 2, 3), (4, 5, 6)])\n",
    "print(c)"
   ]
  },
  {
   "cell_type": "code",
   "execution_count": 9,
   "metadata": {
    "colab": {
     "base_uri": "https://localhost:8080/"
    },
    "id": "7WMcvQIfpH1L",
    "outputId": "2090e56d-6676-4b89-8129-477354122b41"
   },
   "outputs": [
    {
     "name": "stdout",
     "output_type": "stream",
     "text": [
      "(2, 2, 3)\n",
      "[[[ 1  2  3]\n",
      "  [ 4  5  6]]\n",
      "\n",
      " [[ 7  8  9]\n",
      "  [10 11 12]]]\n"
     ]
    }
   ],
   "source": [
    "### 3 dimension\n",
    "d = np.array([[[1, 2, 3], [4, 5, 6]], [[7, 8, 9], [10, 11, 12]]])\n",
    "print(d.shape)\n",
    "(2, 2, 3)\n",
    "print(d)"
   ]
  },
  {
   "cell_type": "markdown",
   "metadata": {
    "id": "jV-ZHf5zpRcT"
   },
   "source": [
    "**What is numpy.zeros()?**\n",
    "numpy.zeros() or np.zeros Python function is used to create a matrix full of zeroes. numpy.zeros() in Python can be used when you initialize the weights during the first iteration in TensorFlow and other statistic tasks.\n",
    "\n",
    "numpy.zeros(shape, dtype=float, order='C')\n",
    "Here,\n",
    "\n",
    "Shape: is the shape of the numpy zero array\n",
    "Dtype: is the datatype in numpy zeros. It is optional. The default value is float64\n",
    "Order: Default is C which is an essential row style for numpy.zeros() in Python."
   ]
  },
  {
   "cell_type": "code",
   "execution_count": 10,
   "metadata": {
    "colab": {
     "base_uri": "https://localhost:8080/"
    },
    "id": "KV6ecEdXpdBD",
    "outputId": "62ed9641-2efb-4a74-bc33-c9412fb051d6"
   },
   "outputs": [
    {
     "name": "stdout",
     "output_type": "stream",
     "text": [
      "[[0 0]\n",
      " [0 0]]\n"
     ]
    }
   ],
   "source": [
    "import numpy as np\n",
    "\n",
    "x = np.zeros((2, 2), dtype=np.int16)\n",
    "print(x)"
   ]
  },
  {
   "cell_type": "code",
   "execution_count": 11,
   "metadata": {
    "colab": {
     "base_uri": "https://localhost:8080/"
    },
    "id": "pZWl84ucpwBH",
    "outputId": "52a272d0-5106-4c72-c0e9-f8f74e235578"
   },
   "outputs": [
    {
     "name": "stdout",
     "output_type": "stream",
     "text": [
      "(1, 2, 3)\n",
      "[[[1 1 1]\n",
      "  [1 1 1]]]\n"
     ]
    }
   ],
   "source": [
    "import numpy as np\n",
    "\n",
    "y = np.ones((1, 2, 3), dtype=np.int16)\n",
    "print(y.shape)\n",
    "print(y)"
   ]
  },
  {
   "cell_type": "markdown",
   "metadata": {
    "id": "7QEmH6syp5iB"
   },
   "source": [
    "**Reshape Data**\n",
    "In some occasions, you need to reshape the data from wide to long. You can use the reshape function for this. The syntax is\n",
    "\n",
    "numpy.reshape(a, newShape, order='C')\n",
    "Here,\n",
    "\n",
    "a: Array that you want to reshape\n",
    "\n",
    "newShape: The new desires shape\n",
    "\n",
    "Order: Default is C which is an essential row style.\n",
    "e.reshape(3,2) from 3 columns to 2 columns"
   ]
  },
  {
   "cell_type": "code",
   "execution_count": 12,
   "metadata": {
    "colab": {
     "base_uri": "https://localhost:8080/"
    },
    "id": "z8FcpYGCp9xK",
    "outputId": "d83fd9c7-58d6-4dd3-8302-88a40bc7db97"
   },
   "outputs": [
    {
     "name": "stdout",
     "output_type": "stream",
     "text": [
      "[[1 2 3]\n",
      " [4 5 6]]\n"
     ]
    },
    {
     "data": {
      "text/plain": [
       "array([[1, 2],\n",
       "       [3, 4],\n",
       "       [5, 6]])"
      ]
     },
     "execution_count": 12,
     "metadata": {},
     "output_type": "execute_result"
    }
   ],
   "source": [
    "import numpy as np\n",
    "\n",
    "e = np.array([(1, 2, 3), (4, 5, 6)])\n",
    "print(e)\n",
    "e.reshape(3, 2)"
   ]
  },
  {
   "cell_type": "markdown",
   "metadata": {
    "id": "KRokQzMXqCnc"
   },
   "source": [
    "**Flatten Data**\n",
    "When you deal with some neural network like convnet, you need to flatten the array. You can use flatten(). The syntax is\n",
    "\n",
    "numpy.flatten(order='C')\n",
    "Here,\n",
    "\n",
    "Order: Default is C which is an essential row style."
   ]
  },
  {
   "cell_type": "code",
   "execution_count": 13,
   "metadata": {
    "colab": {
     "base_uri": "https://localhost:8080/"
    },
    "id": "9nyOD_QBqEWe",
    "outputId": "df768899-1866-4d2f-a4ff-4d097649df86"
   },
   "outputs": [
    {
     "data": {
      "text/plain": [
       "array([1, 2, 3, 4, 5, 6])"
      ]
     },
     "execution_count": 13,
     "metadata": {},
     "output_type": "execute_result"
    }
   ],
   "source": [
    "e.flatten()"
   ]
  },
  {
   "cell_type": "markdown",
   "metadata": {
    "id": "oJd2Af_Oqdn2"
   },
   "source": [
    "**What is hstack?**\n",
    "With hstack you can appened data horizontally. This is a very convenient function in Numpy"
   ]
  },
  {
   "cell_type": "code",
   "execution_count": 14,
   "metadata": {
    "colab": {
     "base_uri": "https://localhost:8080/"
    },
    "id": "U08sJwSyqpxQ",
    "outputId": "669821fd-8204-43fe-fa7a-fc945e808797"
   },
   "outputs": [
    {
     "name": "stdout",
     "output_type": "stream",
     "text": [
      "Horizontal Append: [1 2 3 4 5 6]\n"
     ]
    }
   ],
   "source": [
    "## Horitzontal Stack\n",
    "import numpy as np\n",
    "\n",
    "f = np.array([1, 2, 3])\n",
    "g = np.array([4, 5, 6])\n",
    "\n",
    "print(\"Horizontal Append:\", np.hstack((f, g)))"
   ]
  },
  {
   "cell_type": "code",
   "execution_count": null,
   "metadata": {
    "id": "dePMReS4qtrt"
   },
   "outputs": [],
   "source": []
  },
  {
   "cell_type": "markdown",
   "metadata": {
    "id": "-IDQvqhjquAA"
   },
   "source": [
    "**What is vstack?**\n",
    "With vstack you can appened data vertically. Lets study it with an example:"
   ]
  },
  {
   "cell_type": "code",
   "execution_count": 15,
   "metadata": {
    "colab": {
     "base_uri": "https://localhost:8080/"
    },
    "id": "KSYNJGBSq0p6",
    "outputId": "99a630cf-d59a-4414-fef5-605f493b7902"
   },
   "outputs": [
    {
     "name": "stdout",
     "output_type": "stream",
     "text": [
      "Vertical Append: [[1 2 3]\n",
      " [4 5 6]]\n"
     ]
    }
   ],
   "source": [
    "## Vertical Stack\n",
    "import numpy as np\n",
    "\n",
    "f = np.array([1, 2, 3])\n",
    "g = np.array([4, 5, 6])\n",
    "\n",
    "print(\"Vertical Append:\", np.vstack((f, g)))"
   ]
  },
  {
   "cell_type": "markdown",
   "metadata": {
    "id": "FO4bp6B3q4Bj"
   },
   "source": [
    "**Generate Random Numbers**\n",
    "To generate random numbers for Gaussian distribution use\n",
    "\n",
    "numpy.random.normal(loc, scale, size)\n",
    "\n",
    "Here\n",
    "\n",
    "Loc: the mean. The center of distribution\n",
    "scale: standard deviation.\n",
    "Size: number of returns"
   ]
  },
  {
   "cell_type": "code",
   "execution_count": 16,
   "metadata": {
    "colab": {
     "base_uri": "https://localhost:8080/"
    },
    "id": "B9A9uPHZq79n",
    "outputId": "2ed09694-e407-4d38-90c8-4833d7497cc2"
   },
   "outputs": [
    {
     "name": "stdout",
     "output_type": "stream",
     "text": [
      "[4.44100942 5.14627751 4.39639662 4.39939319 4.99775363 5.19395212\n",
      " 4.65209434 5.70893019 5.59029423 4.58698953]\n"
     ]
    }
   ],
   "source": [
    "## Generate random nmber from normal distribution\n",
    "normal_array = np.random.normal(5, 0.5, 10)\n",
    "print(normal_array)"
   ]
  },
  {
   "cell_type": "markdown",
   "metadata": {
    "id": "BWhpH68GrIoz"
   },
   "source": [
    "**Asarray**\n",
    "The asarray()function is used when you want to convert an input to an array. The input could be a lists, tuple, ndarray, etc.\n",
    "\n",
    "Syntax:\n",
    "\n",
    "numpy.asarray(data, dtype=None, order=None)[source]\n",
    "Here,\n",
    "\n",
    "data: Data that you want to convert to an array\n",
    "\n",
    "dtype: This is an optional argument. If not specified, the data type is inferred from the input data\n",
    "\n",
    "Order: Default is C which is an essential row style. Other option is F (Fortan-style)"
   ]
  },
  {
   "cell_type": "code",
   "execution_count": 17,
   "metadata": {
    "colab": {
     "base_uri": "https://localhost:8080/"
    },
    "id": "hm7s7qGcrcl9",
    "outputId": "ad98a157-352c-4aae-9e67-d219c863d16c"
   },
   "outputs": [
    {
     "name": "stdout",
     "output_type": "stream",
     "text": [
      "[[1. 1. 1. 1.]\n",
      " [1. 1. 1. 1.]\n",
      " [1. 1. 1. 1.]\n",
      " [1. 1. 1. 1.]]\n"
     ]
    }
   ],
   "source": [
    "A = np.matrix(np.ones((4, 4)))\n",
    "print(A)"
   ]
  },
  {
   "cell_type": "code",
   "execution_count": 18,
   "metadata": {
    "colab": {
     "base_uri": "https://localhost:8080/"
    },
    "id": "QjQypdTirp18",
    "outputId": "337e03b0-c7ff-4467-af20-8876ba967e57"
   },
   "outputs": [
    {
     "name": "stdout",
     "output_type": "stream",
     "text": [
      "[[1. 1. 1. 1.]\n",
      " [1. 1. 1. 1.]\n",
      " [2. 2. 2. 2.]\n",
      " [1. 1. 1. 1.]]\n"
     ]
    }
   ],
   "source": [
    "np.asarray(A)[2] = 2\n",
    "print(A)"
   ]
  },
  {
   "cell_type": "markdown",
   "metadata": {
    "id": "deVPxpatr1jm"
   },
   "source": [
    "**What is numpy.arange()?**\n",
    "numpy.arange() is an inbuilt numpy function that returns an ndarray object containing evenly spaced values within a defined interval. For instance, you want to create values from 1 to 10; you can use numpy.arange() function.\n",
    "\n",
    "Syntax:\n",
    "\n",
    "numpy.arange(start, stop,step) \n",
    "Start: Start of interval\n",
    "Stop: End of interval\n",
    "Step: Spacing between values. Default step is 1"
   ]
  },
  {
   "cell_type": "code",
   "execution_count": 19,
   "metadata": {
    "colab": {
     "base_uri": "https://localhost:8080/"
    },
    "id": "TYe1UtmZr4To",
    "outputId": "64ee08bd-c79a-44e5-9f23-e58992b594eb"
   },
   "outputs": [
    {
     "data": {
      "text/plain": [
       "array([ 1,  2,  3,  4,  5,  6,  7,  8,  9, 10])"
      ]
     },
     "execution_count": 19,
     "metadata": {},
     "output_type": "execute_result"
    }
   ],
   "source": [
    "np.arange(1, 11)"
   ]
  },
  {
   "cell_type": "code",
   "execution_count": 20,
   "metadata": {
    "colab": {
     "base_uri": "https://localhost:8080/"
    },
    "id": "W4p37uIrsGfB",
    "outputId": "058823b8-f2f0-4ea6-f3f0-c1c3b235bdd7"
   },
   "outputs": [
    {
     "data": {
      "text/plain": [
       "array([ 1,  5,  9, 13])"
      ]
     },
     "execution_count": 20,
     "metadata": {},
     "output_type": "execute_result"
    }
   ],
   "source": [
    "np.arange(1, 14, 4)"
   ]
  },
  {
   "cell_type": "markdown",
   "metadata": {
    "id": "r86t9PqFsPJP"
   },
   "source": [
    "**Linspace**\n",
    "Linspace gives evenly spaced samples.\n",
    "\n",
    "Syntax:\n",
    "\n",
    "numpy.linspace(start, stop, num, endpoint)\n",
    "Here,\n",
    "\n",
    "Start: Starting value of the sequence\n",
    "Stop: End value of the sequence\n",
    "Num: Number of samples to generate. Default is 50\n",
    "Endpoint: If True (default), stop is the last value. If False, stop value is not included."
   ]
  },
  {
   "cell_type": "code",
   "execution_count": 21,
   "metadata": {
    "colab": {
     "base_uri": "https://localhost:8080/"
    },
    "id": "C8ILv5P9sRR7",
    "outputId": "eca09818-a37a-4896-e539-6493d490aad8"
   },
   "outputs": [
    {
     "data": {
      "text/plain": [
       "array([ 1.        ,  1.47368421,  1.94736842,  2.42105263,  2.89473684,\n",
       "        3.36842105,  3.84210526,  4.31578947,  4.78947368,  5.26315789,\n",
       "        5.73684211,  6.21052632,  6.68421053,  7.15789474,  7.63157895,\n",
       "        8.10526316,  8.57894737,  9.05263158,  9.52631579, 10.        ])"
      ]
     },
     "execution_count": 21,
     "metadata": {},
     "output_type": "execute_result"
    }
   ],
   "source": [
    "import numpy as np\n",
    "\n",
    "np.linspace(1.0, 10.0, num=20)"
   ]
  },
  {
   "cell_type": "code",
   "execution_count": 22,
   "metadata": {
    "colab": {
     "base_uri": "https://localhost:8080/"
    },
    "id": "6KJqfEHYtQis",
    "outputId": "d0eec13d-5f3f-4d9e-e32e-305dde470820"
   },
   "outputs": [
    {
     "data": {
      "text/plain": [
       "array([1. , 1.8, 2.6, 3.4, 4.2])"
      ]
     },
     "execution_count": 22,
     "metadata": {},
     "output_type": "execute_result"
    }
   ],
   "source": [
    "np.linspace(1.0, 5.0, num=5, endpoint=False)"
   ]
  },
  {
   "cell_type": "markdown",
   "metadata": {
    "id": "gkmzAuautW8H"
   },
   "source": [
    "**LogSpace**\n",
    "LogSpace returns even spaced numbers on a log scale. Logspace has the same parameters as np.linspace.\n",
    "\n",
    "Syntax:\n",
    "\n",
    "numpy.logspace(start, stop, num, endpoint)"
   ]
  },
  {
   "cell_type": "code",
   "execution_count": 23,
   "metadata": {
    "colab": {
     "base_uri": "https://localhost:8080/"
    },
    "id": "17p0A020tZiu",
    "outputId": "8e837e2a-3ac9-4d2a-9d05-a1cc04cc60e4"
   },
   "outputs": [
    {
     "data": {
      "text/plain": [
       "array([ 1000.        ,  2154.43469003,  4641.58883361, 10000.        ])"
      ]
     },
     "execution_count": 23,
     "metadata": {},
     "output_type": "execute_result"
    }
   ],
   "source": [
    "np.logspace(3.0, 4.0, num=4)"
   ]
  },
  {
   "cell_type": "code",
   "execution_count": 24,
   "metadata": {
    "colab": {
     "base_uri": "https://localhost:8080/"
    },
    "id": "i5saa5jitf5m",
    "outputId": "6e30a581-e220-465d-a602-bd5bd525aca0"
   },
   "outputs": [
    {
     "data": {
      "text/plain": [
       "16"
      ]
     },
     "execution_count": 24,
     "metadata": {},
     "output_type": "execute_result"
    }
   ],
   "source": [
    "x = np.array([1, 2, 3], dtype=np.complex128)\n",
    "x.itemsize"
   ]
  },
  {
   "cell_type": "markdown",
   "metadata": {
    "id": "qT844qHrtncY"
   },
   "source": [
    "Indexing and slicing\n",
    "Slicing data is trivial with numpy. We will slice the matrice \"e\". Note that, in Python, you need to use the brackets to return the rows or columns"
   ]
  },
  {
   "cell_type": "code",
   "execution_count": 25,
   "metadata": {
    "colab": {
     "base_uri": "https://localhost:8080/"
    },
    "id": "jjxSVcvot3YO",
    "outputId": "2f6596da-ce20-4742-ad45-baf5870baf7d"
   },
   "outputs": [
    {
     "name": "stdout",
     "output_type": "stream",
     "text": [
      "[[4 5 6]\n",
      " [7 8 9]]\n"
     ]
    }
   ],
   "source": [
    "## Slice\n",
    "import numpy as np\n",
    "\n",
    "e = np.array([(4, 5, 6), (7, 8, 9)])\n",
    "print(e)"
   ]
  },
  {
   "cell_type": "code",
   "execution_count": 26,
   "metadata": {
    "colab": {
     "base_uri": "https://localhost:8080/"
    },
    "id": "5Dyuqyegt_HF",
    "outputId": "fcbd797c-973c-4729-8763-1c7c91385029"
   },
   "outputs": [
    {
     "name": "stdout",
     "output_type": "stream",
     "text": [
      "First row: [4 5 6]\n",
      "Second row: [7 8 9]\n"
     ]
    }
   ],
   "source": [
    "## First column\n",
    "print(\"First row:\", e[0])\n",
    "\n",
    "## Second col\n",
    "print(\"Second row:\", e[1])"
   ]
  },
  {
   "cell_type": "code",
   "execution_count": 27,
   "metadata": {
    "colab": {
     "base_uri": "https://localhost:8080/"
    },
    "id": "k2TKgo7QuG22",
    "outputId": "35aa827e-25fa-44bb-8f89-5a39c1bf7f20"
   },
   "outputs": [
    {
     "name": "stdout",
     "output_type": "stream",
     "text": [
      "Second column: [5 8]\n"
     ]
    }
   ],
   "source": [
    "print(\"Second column:\", e[:, 1])"
   ]
  },
  {
   "cell_type": "code",
   "execution_count": 28,
   "metadata": {
    "colab": {
     "base_uri": "https://localhost:8080/"
    },
    "id": "I-KS7M8juKhA",
    "outputId": "c45d1576-561d-47f4-b94a-574d543b795f"
   },
   "outputs": [
    {
     "name": "stdout",
     "output_type": "stream",
     "text": [
      "[7 8]\n"
     ]
    }
   ],
   "source": [
    "## Second Row, two values\n",
    "print(e[1, :2])"
   ]
  },
  {
   "cell_type": "code",
   "execution_count": 29,
   "metadata": {
    "colab": {
     "base_uri": "https://localhost:8080/"
    },
    "id": "3aSbDXcd4lmf",
    "outputId": "26789f45-a462-4a27-df6a-854f0ac06c92"
   },
   "outputs": [
    {
     "name": "stdout",
     "output_type": "stream",
     "text": [
      "[5 8]\n"
     ]
    }
   ],
   "source": [
    "# Second column 2 values\n",
    "print(e[:2, 1])"
   ]
  },
  {
   "cell_type": "markdown",
   "metadata": {
    "id": "jAxn-iX8uVgo"
   },
   "source": [
    "NumPy has quite a few useful statistical functions for finding minimum, maximum, percentile standard deviation and variance, etc from the given elements in the array. The functions are explained as follows −\n",
    "\n",
    "Statistical function\n",
    "Numpy is equipped with the robust statistical function as listed below\n",
    "\n",
    "Function\tNumpy\n",
    "Min\tnp.min()\n",
    "Max\tnp.max()\n",
    "Mean\tnp.mean()\n",
    "Median\tnp.median()\n",
    "Standard deviation\tnp.std()"
   ]
  },
  {
   "cell_type": "code",
   "execution_count": 30,
   "metadata": {
    "colab": {
     "base_uri": "https://localhost:8080/"
    },
    "id": "vsl3OjrPuWnu",
    "outputId": "d1116060-247c-49bf-c034-a971270d0092"
   },
   "outputs": [
    {
     "name": "stdout",
     "output_type": "stream",
     "text": [
      "[5.33468556 5.04219004 4.55750433 5.66119407 5.00284038 5.00419874\n",
      " 5.31642175 5.32302473 4.59384766 5.06356847]\n"
     ]
    }
   ],
   "source": [
    "import numpy as np\n",
    "\n",
    "normal_array = np.random.normal(5, 0.5, 10)\n",
    "print(normal_array)"
   ]
  },
  {
   "cell_type": "code",
   "execution_count": 31,
   "metadata": {
    "colab": {
     "base_uri": "https://localhost:8080/"
    },
    "id": "5oHHPgDUuccq",
    "outputId": "e6e83d94-c03e-48f5-fe0a-f75a5b6fbd6e"
   },
   "outputs": [
    {
     "name": "stdout",
     "output_type": "stream",
     "text": [
      "4.557504326534806\n",
      "5.661194067177513\n",
      "5.089947572059707\n",
      "5.052879258652196\n",
      "0.3223915085550346\n"
     ]
    }
   ],
   "source": [
    "### Min\n",
    "print(np.min(normal_array))\n",
    "\n",
    "### Max\n",
    "print(np.max(normal_array))\n",
    "\n",
    "### Mean\n",
    "print(np.mean(normal_array))\n",
    "\n",
    "### Median\n",
    "print(np.median(normal_array))\n",
    "\n",
    "### Sd\n",
    "print(np.std(normal_array))"
   ]
  },
  {
   "cell_type": "markdown",
   "metadata": {
    "id": "7r_b-Spyujkn"
   },
   "source": [
    "**What is numpy dot product?**\n",
    "Numpy.dot product is a powerful library for matrix computation. For instance, you can compute the dot product with np.dot. Numpy.dot product is the dot product of a and b. numpy.dot() in Python handles the 2D arrays and perform matrix multiplications.\n",
    "\n",
    "Syntax\n",
    "\n",
    "numpy.dot(x, y, out=None)\n",
    "Parameters\n",
    "\n",
    "Here,\n",
    "\n",
    "x,y: Input arrays. x and y both should be 1-D or 2-D for the np.dot() function to work\n",
    "\n",
    "out: This is the output argument for 1-D array scalar to be returned. Otherwise ndarray should be returned.\n",
    "\n",
    "Returns\n",
    "\n",
    "The function numpy.dot() in Python returns a Dot product of two arrays x and y. The dot() function returns a scalar if both x and y are 1-D; otherwise, it returns an array. If 'out' is given then it is returned.\n",
    "\n",
    "Raises\n",
    "\n",
    "Dot product in Python raises a ValueError exception if the last dimension of x does not have the same size as the second last dimension of y."
   ]
  },
  {
   "cell_type": "code",
   "execution_count": 32,
   "metadata": {
    "colab": {
     "base_uri": "https://localhost:8080/"
    },
    "id": "VHCn0I0tupJY",
    "outputId": "b0b03285-1459-411f-a259-2f77cf5768b7"
   },
   "outputs": [
    {
     "data": {
      "text/plain": [
       "14"
      ]
     },
     "execution_count": 32,
     "metadata": {},
     "output_type": "execute_result"
    }
   ],
   "source": [
    "## Linear algebra\n",
    "### Dot product: product of two arrays\n",
    "f = np.array([1, 2])\n",
    "g = np.array([4, 5])\n",
    "### 1*4+2*5\n",
    "np.dot(f, g)"
   ]
  },
  {
   "cell_type": "markdown",
   "metadata": {
    "id": "ClzxYsb5uzXm"
   },
   "source": [
    "**Matrix Multiplication**\n",
    "The Numpu matmul() function is used to return the matrix product of 2 arrays. Here is how it works\n",
    "\n",
    "1) 2-D arrays, it returns normal product\n",
    "\n",
    "2) Dimensions > 2, the product is treated as a stack of matrix\n",
    "\n",
    "3) 1-D array is first promoted to a matrix, and then the product is calculated\n",
    "\n",
    "numpy.matmul(x, y, out=None)\n",
    "Here,\n",
    "\n",
    "x,y: Input arrays. scalars not allowed"
   ]
  },
  {
   "cell_type": "code",
   "execution_count": 33,
   "metadata": {
    "colab": {
     "base_uri": "https://localhost:8080/"
    },
    "id": "ihmwbkbgu1CP",
    "outputId": "0115d314-70aa-4793-ef18-5db8e786fed0"
   },
   "outputs": [
    {
     "data": {
      "text/plain": [
       "array([[19, 22],\n",
       "       [43, 50]])"
      ]
     },
     "execution_count": 33,
     "metadata": {},
     "output_type": "execute_result"
    }
   ],
   "source": [
    "### Matmul: matruc product of two arrays\n",
    "h = [[1, 2], [3, 4]]\n",
    "i = [[5, 6], [7, 8]]\n",
    "### 1*5+2*7 = 19\n",
    "np.matmul(h, i)"
   ]
  },
  {
   "cell_type": "markdown",
   "metadata": {
    "id": "EFqn9kWDwjMh"
   },
   "source": [
    "**How to inverse a matrix using NumPy**"
   ]
  },
  {
   "cell_type": "code",
   "execution_count": 34,
   "metadata": {
    "colab": {
     "base_uri": "https://localhost:8080/"
    },
    "id": "iqw-Hb4EvjXQ",
    "outputId": "ea7a247d-a539-448c-9fed-55340425d243"
   },
   "outputs": [
    {
     "name": "stdout",
     "output_type": "stream",
     "text": [
      "[[ 0.17647059 -0.00326797 -0.02287582]\n",
      " [ 0.05882353 -0.13071895  0.08496732]\n",
      " [-0.11764706  0.1503268   0.05228758]]\n"
     ]
    }
   ],
   "source": [
    "# Taking a 3 * 3 matrix\n",
    "A = np.array([[6, 1, 1], [4, -2, 5], [2, 8, 7]])\n",
    "\n",
    "# Calculating the inverse of the matrix\n",
    "print(np.linalg.inv(A))"
   ]
  },
  {
   "cell_type": "markdown",
   "metadata": {
    "id": "O9pAABVewzQp"
   },
   "source": [
    "**How to Calculate the determinant of a matrix using NumPy?**"
   ]
  },
  {
   "cell_type": "code",
   "execution_count": 35,
   "metadata": {
    "colab": {
     "base_uri": "https://localhost:8080/"
    },
    "id": "ftQjBvpAwvg0",
    "outputId": "e5fa5d26-19cd-40b7-cb0c-571484ba843f"
   },
   "outputs": [
    {
     "name": "stdout",
     "output_type": "stream",
     "text": [
      "Numpy Matrix is:\n",
      "[[50 29]\n",
      " [30 44]]\n",
      "\n",
      "Determinant of given 2X2 matrix:\n",
      "1330\n"
     ]
    }
   ],
   "source": [
    "# creating a 2X2 Numpy matrix\n",
    "n_array = np.array([[50, 29], [30, 44]])\n",
    "\n",
    "# Displaying the Matrix\n",
    "print(\"Numpy Matrix is:\")\n",
    "print(n_array)\n",
    "\n",
    "# calculating the determinant of matrix\n",
    "det = np.linalg.det(n_array)\n",
    "\n",
    "print(\"\\nDeterminant of given 2X2 matrix:\")\n",
    "print(int(det))"
   ]
  },
  {
   "cell_type": "markdown",
   "metadata": {
    "id": "DG0tbvYxxGlt"
   },
   "source": [
    "**Rank of a Matrix**"
   ]
  },
  {
   "cell_type": "code",
   "execution_count": null,
   "metadata": {
    "id": "poidrwlZxbby"
   },
   "outputs": [],
   "source": []
  },
  {
   "cell_type": "code",
   "execution_count": 36,
   "metadata": {
    "colab": {
     "base_uri": "https://localhost:8080/"
    },
    "id": "eiYWtB5dxCy6",
    "outputId": "c30879a5-8ac5-4c32-abe2-7694f0bd23fb"
   },
   "outputs": [
    {
     "data": {
      "text/plain": [
       "3"
      ]
     },
     "execution_count": 36,
     "metadata": {},
     "output_type": "execute_result"
    }
   ],
   "source": [
    "# Let's create a square matrix (NxN matrix)\n",
    "mx = np.array([[1, 1, 1], [0, 1, 2], [1, 5, 3]])\n",
    "\n",
    "# Let's get rank of matrix\n",
    "np.linalg.matrix_rank(mx)"
   ]
  },
  {
   "cell_type": "markdown",
   "metadata": {
    "id": "82vchGz_xuy-"
   },
   "source": [
    "**How To Calculate Eigenvectors And Eigenvalues With Numpy**"
   ]
  },
  {
   "cell_type": "code",
   "execution_count": 37,
   "metadata": {
    "colab": {
     "base_uri": "https://localhost:8080/"
    },
    "id": "BnGCJDFEwxb_",
    "outputId": "13c1afa6-eb67-489f-984e-c7b86e4d77b3"
   },
   "outputs": [
    {
     "name": "stdout",
     "output_type": "stream",
     "text": [
      "[ 3.62093727e+01 -2.20937271e+00 -2.62410379e-15 -9.51420961e-17] [[-0.15115432 -0.72704996 -0.47688035 -0.07702174]\n",
      " [-0.34923733 -0.28320876  0.83665151 -0.30149603]\n",
      " [-0.54732033  0.16063243 -0.24266197  0.83405728]\n",
      " [-0.74540333  0.60447363 -0.11710919 -0.45553951]]\n"
     ]
    }
   ],
   "source": [
    "example_matrix = np.array(\n",
    "    [[1, 2, 3, 4], [5, 6, 7, 8], [9, 10, 11, 12], [13, 14, 15, 16]]\n",
    ")\n",
    "eigenvalues, eigenvectors = np.linalg.eig(example_matrix)\n",
    "print(eigenvalues, eigenvectors)"
   ]
  },
  {
   "cell_type": "markdown",
   "metadata": {
    "id": "afIX2fXuyeeE"
   },
   "source": [
    "**Get diagonal of a matrix**"
   ]
  },
  {
   "cell_type": "code",
   "execution_count": 38,
   "metadata": {
    "colab": {
     "base_uri": "https://localhost:8080/"
    },
    "id": "zv0z5B2QyCv3",
    "outputId": "1b55df84-9ecd-4218-da9f-747906786cd9"
   },
   "outputs": [
    {
     "name": "stdout",
     "output_type": "stream",
     "text": [
      "[[6 4]]\n"
     ]
    }
   ],
   "source": [
    "# make matrix with numpy\n",
    "gfg = np.matrix(\"[6, 2; 3, 4]\")\n",
    "\n",
    "# applying matrix.diagonal() method\n",
    "diag = gfg.diagonal()\n",
    "\n",
    "print(diag)"
   ]
  },
  {
   "cell_type": "markdown",
   "metadata": {
    "id": "_yazSJzbyaDK"
   },
   "source": [
    "**Matrix transpose**"
   ]
  },
  {
   "cell_type": "code",
   "execution_count": 39,
   "metadata": {
    "colab": {
     "base_uri": "https://localhost:8080/"
    },
    "id": "layBADs4yVK-",
    "outputId": "5e2998c9-f233-41b5-edee-2267293e4004"
   },
   "outputs": [
    {
     "name": "stdout",
     "output_type": "stream",
     "text": [
      "[[ 4 12]\n",
      " [ 1  3]]\n"
     ]
    }
   ],
   "source": [
    "# make matrix with numpy\n",
    "gfg = np.matrix(\"[4, 1; 12, 3]\")\n",
    "\n",
    "# applying matrix.transpose() method\n",
    "trans = gfg.transpose()\n",
    "\n",
    "print(trans)"
   ]
  },
  {
   "cell_type": "markdown",
   "metadata": {
    "id": "NwkQwo6Hy5lW"
   },
   "source": [
    "**Trace of a matrix**"
   ]
  },
  {
   "cell_type": "code",
   "execution_count": 40,
   "metadata": {
    "colab": {
     "base_uri": "https://localhost:8080/"
    },
    "id": "LO_awAipy0J2",
    "outputId": "7b3e5786-4683-4887-ab23-a07a1aab710d"
   },
   "outputs": [
    {
     "name": "stdout",
     "output_type": "stream",
     "text": [
      "[[7]]\n"
     ]
    }
   ],
   "source": [
    "# make matrix with numpy\n",
    "gfg = np.matrix(\"[4, 1; 12, 3]\")\n",
    "\n",
    "# applying matrix.trace() method\n",
    "tracem = gfg.trace()\n",
    "\n",
    "print(tracem)"
   ]
  }
 ],
 "metadata": {
  "colab": {
   "collapsed_sections": [],
   "name": "numpy practice.ipynb",
   "provenance": []
  },
  "kernelspec": {
   "display_name": "Python 3",
   "name": "python3"
  },
  "language_info": {
   "codemirror_mode": {
    "name": "ipython",
    "version": 3
   },
   "file_extension": ".py",
   "mimetype": "text/x-python",
   "name": "python",
   "nbconvert_exporter": "python",
   "pygments_lexer": "ipython3",
   "version": "3.10.12"
  }
 },
 "nbformat": 4,
 "nbformat_minor": 0
}
