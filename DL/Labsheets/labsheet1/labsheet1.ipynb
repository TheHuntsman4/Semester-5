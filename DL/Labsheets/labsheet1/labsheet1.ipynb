{
 "cells": [
  {
   "cell_type": "code",
   "execution_count": 2,
   "metadata": {},
   "outputs": [],
   "source": [
    "import os\n",
    "import torch\n",
    "import numpy as np"
   ]
  },
  {
   "cell_type": "code",
   "execution_count": 3,
   "metadata": {},
   "outputs": [
    {
     "name": "stdout",
     "output_type": "stream",
     "text": [
      "Gradient of A:\n",
      " tensor([[1.2239, 1.3456, 2.1941],\n",
      "        [1.2239, 1.3456, 2.1941],\n",
      "        [1.2239, 1.3456, 2.1941]])\n"
     ]
    }
   ],
   "source": [
    "A = torch.rand(3, 3, requires_grad=True)\n",
    "B = torch.rand(3, 3)\n",
    "\n",
    "C = torch.matmul(A, B)\n",
    "\n",
    "C.backward(torch.ones_like(C))\n",
    "\n",
    "print(\"Gradient of A:\\n\", A.grad)"
   ]
  },
  {
   "cell_type": "code",
   "execution_count": 4,
   "metadata": {},
   "outputs": [
    {
     "name": "stdout",
     "output_type": "stream",
     "text": [
      "Result of broadcasting:\n",
      " tensor([[0.7522, 0.4662, 0.4413],\n",
      "        [0.3360, 0.5917, 0.3255],\n",
      "        [0.6344, 0.0595, 0.0124]])\n"
     ]
    }
   ],
   "source": [
    "tensor1 = torch.rand(3, 1)\n",
    "tensor2 = torch.rand(1, 3)\n",
    "\n",
    "broadcast_result = tensor1 + tensor2\n",
    "C = torch.rand(3, 3)\n",
    "result = broadcast_result * C\n",
    "\n",
    "print(\"Result of broadcasting:\\n\", result)\n"
   ]
  },
  {
   "cell_type": "code",
   "execution_count": 5,
   "metadata": {},
   "outputs": [
    {
     "name": "stdout",
     "output_type": "stream",
     "text": [
      "Reshaped Tensor:\n",
      " tensor([[0.5719, 0.4697, 0.6739, 0.9811, 0.2934, 0.5532, 0.9918, 0.8680],\n",
      "        [0.2103, 0.4093, 0.2537, 0.5129, 0.2786, 0.3683, 0.2729, 0.6610],\n",
      "        [0.4028, 0.2638, 0.9629, 0.5513, 0.9738, 0.6731, 0.6569, 0.2678]])\n",
      "Sliced Tensor (first two columns):\n",
      " tensor([[0.5719, 0.4697],\n",
      "        [0.2103, 0.4093],\n",
      "        [0.4028, 0.2638]])\n"
     ]
    }
   ],
   "source": [
    "tensor = torch.rand(6, 4)\n",
    "\n",
    "reshaped_tensor = tensor.view(3, 8)\n",
    "\n",
    "sliced_tensor = reshaped_tensor[:, :2]\n",
    "\n",
    "print(\"Reshaped Tensor:\\n\", reshaped_tensor)\n",
    "print(\"Sliced Tensor (first two columns):\\n\", sliced_tensor)"
   ]
  },
  {
   "cell_type": "code",
   "execution_count": 6,
   "metadata": {},
   "outputs": [
    {
     "name": "stdout",
     "output_type": "stream",
     "text": [
      "Original NumPy array:\n",
      " [[0.13291879 0.75482448 0.02655239]\n",
      " [0.21699198 0.25919541 0.74300164]\n",
      " [0.94897842 0.86809073 0.541048  ]]\n",
      "Modified NumPy array:\n",
      " [[0.39875637 2.26447344 0.07965716]\n",
      " [0.65097594 0.77758624 2.22900492]\n",
      " [2.84693527 2.6042722  1.62314401]]\n"
     ]
    }
   ],
   "source": [
    "np_array = np.random.rand(3, 3)\n",
    "\n",
    "torch_tensor = torch.from_numpy(np_array)\n",
    "\n",
    "modified_tensor = torch_tensor * 3\n",
    "\n",
    "modified_np_array = modified_tensor.numpy()\n",
    "\n",
    "print(\"Original NumPy array:\\n\", np_array)\n",
    "print(\"Modified NumPy array:\\n\", modified_np_array)"
   ]
  },
  {
   "cell_type": "code",
   "execution_count": 7,
   "metadata": {},
   "outputs": [
    {
     "name": "stdout",
     "output_type": "stream",
     "text": [
      "Mean of result tensor: -0.086939737200737\n",
      "Standard deviation of result tensor: 0.6397203803062439\n",
      "Sum of all elements: -2.1734933853149414\n"
     ]
    }
   ],
   "source": [
    "# Initialize a 5x5 tensor with random values from uniform distribution [0, 1]\n",
    "tensor_uniform = torch.rand(5, 5)\n",
    "\n",
    "# Initialize another 5x5 tensor with values from normal distribution (mean=0, std=1)\n",
    "tensor_normal = torch.randn(5, 5)\n",
    "\n",
    "# Element-wise multiplication\n",
    "elementwise_product = tensor_uniform * tensor_normal\n",
    "\n",
    "# Compute the mean and standard deviation\n",
    "mean_val = elementwise_product.mean()\n",
    "std_val = elementwise_product.std()\n",
    "\n",
    "# Reshape to a 1D tensor of size 25\n",
    "reshaped_tensor = elementwise_product.view(25)\n",
    "\n",
    "# Compute the sum of all elements\n",
    "sum_val = reshaped_tensor.sum()\n",
    "\n",
    "print(\"Mean of result tensor:\", mean_val.item())\n",
    "print(\"Standard deviation of result tensor:\", std_val.item())\n",
    "print(\"Sum of all elements:\", sum_val.item())\n"
   ]
  },
  {
   "cell_type": "code",
   "execution_count": 8,
   "metadata": {},
   "outputs": [
    {
     "name": "stdout",
     "output_type": "stream",
     "text": [
      "Sigmoid using math.exp: 0.8175744761936437\n",
      "Sigmoid using np.exp: 0.8175744761936437\n",
      "Sigmoid gradient: 0.14914645207033286\n",
      "Image to vector: [[0.85937134]\n",
      " [0.52473629]\n",
      " [0.27516372]\n",
      " [0.68460937]\n",
      " [0.3240754 ]\n",
      " [0.58145172]\n",
      " [0.34427875]\n",
      " [0.45498018]\n",
      " [0.08015113]\n",
      " [0.02956836]\n",
      " [0.64605939]\n",
      " [0.55030387]\n",
      " [0.01737811]\n",
      " [0.09210763]\n",
      " [0.47340493]\n",
      " [0.73660467]\n",
      " [0.18059885]\n",
      " [0.67709266]\n",
      " [0.57053532]\n",
      " [0.45614297]\n",
      " [0.29888311]\n",
      " [0.27032953]\n",
      " [0.96546595]\n",
      " [0.80060923]\n",
      " [0.34842866]\n",
      " [0.12095699]\n",
      " [0.53264767]]\n",
      "Normalized rows:\n",
      " [[0.8        0.6       ]\n",
      " [0.4472136  0.89442719]]\n",
      "L1 Loss: 0.39999999999999997\n",
      "L2 Loss: 0.06\n"
     ]
    }
   ],
   "source": [
    "import math\n",
    "import numpy as np\n",
    "\n",
    "def sigmoid_math(x):\n",
    "    return 1 / (1 + math.exp(-x))\n",
    "\n",
    "def sigmoid_np(x):\n",
    "    return 1 / (1 + np.exp(-x))\n",
    "\n",
    "def sigmoid_grad(x):\n",
    "    s = sigmoid_np(x)\n",
    "    return s * (1 - s)\n",
    "\n",
    "def image2vector(image):\n",
    "    return image.reshape(-1, 1)\n",
    "\n",
    "def normalizeRows(x):\n",
    "    return x / np.linalg.norm(x, axis=1, keepdims=True)\n",
    "\n",
    "def L1_loss(y_hat, y):\n",
    "    return np.sum(np.abs(y_hat - y))\n",
    "\n",
    "def L2_loss(y_hat, y):\n",
    "    return np.sum((y_hat - y) ** 2)\n",
    "\n",
    "x = 1.5\n",
    "image = np.random.rand(3, 3, 3)\n",
    "y_hat = np.array([0.9, 0.2, 0.4])\n",
    "y = np.array([1.0, 0.0, 0.5])\n",
    "matrix_x = np.array([[4, 3], [1, 2]])\n",
    "\n",
    "print(\"Sigmoid using math.exp:\", sigmoid_math(x))\n",
    "print(\"Sigmoid using np.exp:\", sigmoid_np(x))\n",
    "print(\"Sigmoid gradient:\", sigmoid_grad(x))\n",
    "print(\"Image to vector:\", image2vector(image))\n",
    "print(\"Normalized rows:\\n\", normalizeRows(matrix_x))\n",
    "print(\"L1 Loss:\", L1_loss(y_hat, y))\n",
    "print(\"L2 Loss:\", L2_loss(y_hat, y))\n"
   ]
  },
  {
   "cell_type": "code",
   "execution_count": null,
   "metadata": {},
   "outputs": [],
   "source": []
  }
 ],
 "metadata": {
  "kernelspec": {
   "display_name": "Python 3",
   "language": "python",
   "name": "python3"
  },
  "language_info": {
   "codemirror_mode": {
    "name": "ipython",
    "version": 3
   },
   "file_extension": ".py",
   "mimetype": "text/x-python",
   "name": "python",
   "nbconvert_exporter": "python",
   "pygments_lexer": "ipython3",
   "version": "3.10.12"
  }
 },
 "nbformat": 4,
 "nbformat_minor": 2
}
