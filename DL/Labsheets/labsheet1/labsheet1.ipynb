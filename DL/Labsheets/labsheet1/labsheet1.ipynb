{
 "cells": [
  {
   "cell_type": "code",
   "execution_count": 2,
   "metadata": {},
   "outputs": [],
   "source": [
    "import os\n",
    "import torch\n",
    "import numpy as np\n",
    "import math"
   ]
  },
  {
   "cell_type": "code",
   "execution_count": 3,
   "metadata": {},
   "outputs": [
    {
     "name": "stdout",
     "output_type": "stream",
     "text": [
      "Gradient of A:\n",
      " tensor([[1.9154, 1.4143, 1.4832],\n",
      "        [1.9154, 1.4143, 1.4832],\n",
      "        [1.9154, 1.4143, 1.4832]])\n"
     ]
    }
   ],
   "source": [
    "A = torch.rand(3, 3, requires_grad=True)\n",
    "B = torch.rand(3, 3)\n",
    "\n",
    "C = torch.matmul(A, B)\n",
    "\n",
    "C.backward(torch.ones_like(C))\n",
    "\n",
    "print(\"Gradient of A:\\n\", A.grad)"
   ]
  },
  {
   "cell_type": "code",
   "execution_count": 4,
   "metadata": {},
   "outputs": [
    {
     "name": "stdout",
     "output_type": "stream",
     "text": [
      "Result of broadcasting:\n",
      " tensor([[0.2878, 0.2303, 1.0306],\n",
      "        [0.7752, 0.5141, 0.7098],\n",
      "        [1.1578, 0.1213, 0.1295]])\n"
     ]
    }
   ],
   "source": [
    "tensor1 = torch.rand(3, 1)\n",
    "tensor2 = torch.rand(1, 3)\n",
    "\n",
    "broadcast_result = tensor1 + tensor2\n",
    "C = torch.rand(3, 3)\n",
    "result = broadcast_result * C\n",
    "\n",
    "print(\"Result of broadcasting:\\n\", result)\n"
   ]
  },
  {
   "cell_type": "code",
   "execution_count": 5,
   "metadata": {},
   "outputs": [
    {
     "name": "stdout",
     "output_type": "stream",
     "text": [
      "Reshaped Tensor:\n",
      " tensor([[0.6867, 0.1455, 0.2914, 0.4062, 0.4519, 0.3375, 0.3057, 0.1272],\n",
      "        [0.3241, 0.4159, 0.0940, 0.6696, 0.0285, 0.3075, 0.6592, 0.4100],\n",
      "        [0.5532, 0.2526, 0.9518, 0.4777, 0.4413, 0.6545, 0.0851, 0.6175]])\n",
      "Sliced Tensor (first two columns):\n",
      " tensor([[0.6867, 0.1455],\n",
      "        [0.3241, 0.4159],\n",
      "        [0.5532, 0.2526]])\n"
     ]
    }
   ],
   "source": [
    "tensor = torch.rand(6, 4)\n",
    "\n",
    "reshaped_tensor = tensor.view(3, 8)\n",
    "\n",
    "sliced_tensor = reshaped_tensor[:, :2]\n",
    "\n",
    "print(\"Reshaped Tensor:\\n\", reshaped_tensor)\n",
    "print(\"Sliced Tensor (first two columns):\\n\", sliced_tensor)"
   ]
  },
  {
   "cell_type": "code",
   "execution_count": 6,
   "metadata": {},
   "outputs": [
    {
     "name": "stdout",
     "output_type": "stream",
     "text": [
      "Original NumPy array:\n",
      " [[0.81510163 0.06741678 0.41055477]\n",
      " [0.52160294 0.15101118 0.87421675]\n",
      " [0.61751022 0.62603212 0.04549932]]\n",
      "Modified NumPy array:\n",
      " [[2.4453049  0.20225035 1.23166432]\n",
      " [1.56480883 0.45303353 2.62265025]\n",
      " [1.85253067 1.87809637 0.13649796]]\n"
     ]
    }
   ],
   "source": [
    "np_array = np.random.rand(3, 3)\n",
    "\n",
    "torch_tensor = torch.from_numpy(np_array)\n",
    "\n",
    "modified_tensor = torch_tensor * 3\n",
    "\n",
    "modified_np_array = modified_tensor.numpy()\n",
    "\n",
    "print(\"Original NumPy array:\\n\", np_array)\n",
    "print(\"Modified NumPy array:\\n\", modified_np_array)"
   ]
  },
  {
   "cell_type": "code",
   "execution_count": 7,
   "metadata": {},
   "outputs": [
    {
     "name": "stdout",
     "output_type": "stream",
     "text": [
      "Mean of result tensor: 0.21654795110225677\n",
      "Standard deviation of result tensor: 0.4809201955795288\n",
      "Sum of all elements: 5.413698673248291\n"
     ]
    }
   ],
   "source": [
    "tensor_uniform = torch.rand(5, 5)\n",
    "\n",
    "tensor_normal = torch.randn(5, 5)\n",
    "\n",
    "elementwise_product = tensor_uniform * tensor_normal\n",
    "\n",
    "mean_val = elementwise_product.mean()\n",
    "std_val = elementwise_product.std()\n",
    "\n",
    "reshaped_tensor = elementwise_product.view(25)\n",
    "sum_val = reshaped_tensor.sum()\n",
    "\n",
    "print(\"Mean of result tensor:\", mean_val.item())\n",
    "print(\"Standard deviation of result tensor:\", std_val.item())\n",
    "print(\"Sum of all elements:\", sum_val.item())\n"
   ]
  },
  {
   "cell_type": "markdown",
   "metadata": {},
   "source": [
    "## Exercise 4"
   ]
  },
  {
   "cell_type": "code",
   "execution_count": 8,
   "metadata": {},
   "outputs": [
    {
     "name": "stdout",
     "output_type": "stream",
     "text": [
      "Sigmoid using math.exp: 0.8175744761936437\n",
      "Sigmoid using np.exp: 0.8175744761936437\n",
      "Sigmoid gradient: 0.14914645207033286\n",
      "Image to vector: [[0.91173213]\n",
      " [0.19458769]\n",
      " [0.93182039]\n",
      " [0.95519283]\n",
      " [0.45597187]\n",
      " [0.40021271]\n",
      " [0.08285124]\n",
      " [0.12403379]\n",
      " [0.00764217]\n",
      " [0.10423339]\n",
      " [0.7420208 ]\n",
      " [0.78356137]\n",
      " [0.97471311]\n",
      " [0.19939569]\n",
      " [0.98971015]\n",
      " [0.20916595]\n",
      " [0.63287879]\n",
      " [0.8944908 ]\n",
      " [0.08551047]\n",
      " [0.12795883]\n",
      " [0.02931203]\n",
      " [0.41948011]\n",
      " [0.77873947]\n",
      " [0.75730488]\n",
      " [0.1394369 ]\n",
      " [0.56808706]\n",
      " [0.80657715]]\n",
      "Normalized rows:\n",
      " [[0.8        0.6       ]\n",
      " [0.4472136  0.89442719]]\n",
      "L1 Loss: 0.39999999999999997\n",
      "L2 Loss: 0.06\n"
     ]
    }
   ],
   "source": [
    "\n",
    "\n",
    "def sigmoid_math(x):\n",
    "    return 1 / (1 + math.exp(-x))\n",
    "\n",
    "def sigmoid_np(x):\n",
    "    return 1 / (1 + np.exp(-x))\n",
    "\n",
    "def sigmoid_grad(x):\n",
    "    s = sigmoid_np(x)\n",
    "    return s * (1 - s)\n",
    "\n",
    "def image2vector(image):\n",
    "    return image.reshape(-1, 1)\n",
    "\n",
    "def normalizeRows(x):\n",
    "    return x / np.linalg.norm(x, axis=1, keepdims=True)\n",
    "\n",
    "def L1_loss(y_hat, y):\n",
    "    return np.sum(np.abs(y_hat - y))\n",
    "\n",
    "def L2_loss(y_hat, y):\n",
    "    return np.sum((y_hat - y) ** 2)\n",
    "\n",
    "x = 1.5\n",
    "image = np.random.rand(3, 3, 3)\n",
    "y_hat = np.array([0.9, 0.2, 0.4])\n",
    "y = np.array([1.0, 0.0, 0.5])\n",
    "matrix_x = np.array([[4, 3], [1, 2]])\n",
    "\n",
    "print(\"Sigmoid using math.exp:\", sigmoid_math(x))\n",
    "print(\"Sigmoid using np.exp:\", sigmoid_np(x))\n",
    "print(\"Sigmoid gradient:\", sigmoid_grad(x))\n",
    "print(\"Image to vector:\", image2vector(image))\n",
    "print(\"Normalized rows:\\n\", normalizeRows(matrix_x))\n",
    "print(\"L1 Loss:\", L1_loss(y_hat, y))\n",
    "print(\"L2 Loss:\", L2_loss(y_hat, y))\n"
   ]
  },
  {
   "cell_type": "markdown",
   "metadata": {},
   "source": [
    "## Exercise 5"
   ]
  },
  {
   "cell_type": "code",
   "execution_count": null,
   "metadata": {},
   "outputs": [],
   "source": []
  }
 ],
 "metadata": {
  "kernelspec": {
   "display_name": "Python 3",
   "language": "python",
   "name": "python3"
  },
  "language_info": {
   "codemirror_mode": {
    "name": "ipython",
    "version": 3
   },
   "file_extension": ".py",
   "mimetype": "text/x-python",
   "name": "python",
   "nbconvert_exporter": "python",
   "pygments_lexer": "ipython3",
   "version": "3.10.12"
  }
 },
 "nbformat": 4,
 "nbformat_minor": 2
}
